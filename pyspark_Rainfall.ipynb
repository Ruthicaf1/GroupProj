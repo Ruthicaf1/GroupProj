{
  "nbformat": 4,
  "nbformat_minor": 0,
  "metadata": {
    "colab": {
      "name": "Untitled1.ipynb",
      "provenance": [],
      "collapsed_sections": [],
      "authorship_tag": "ABX9TyO1gp+x3YHjTzaXFSdfwU+W",
      "include_colab_link": true
    },
    "kernelspec": {
      "name": "python3",
      "display_name": "Python 3"
    },
    "language_info": {
      "name": "python"
    }
  },
  "cells": [
    {
      "cell_type": "markdown",
      "metadata": {
        "id": "view-in-github",
        "colab_type": "text"
      },
      "source": [
        "<a href=\"https://colab.research.google.com/github/Ruthicaf1/GroupProj/blob/main/pyspark_Rainfall.ipynb\" target=\"_parent\"><img src=\"https://colab.research.google.com/assets/colab-badge.svg\" alt=\"Open In Colab\"/></a>"
      ]
    },
    {
      "cell_type": "code",
      "metadata": {
        "colab": {
          "base_uri": "https://localhost:8080/"
        },
        "id": "KdnI10IOxd6O",
        "outputId": "9127fbfb-bc16-4ca7-eb80-ff5bb4ddfa7c"
      },
      "source": [
        "import os\n",
        "# Find the latest version of spark 3.0  from http://www-us.apache.org/dist/spark/ and enter as the spark version\n",
        "# For example:\n",
        "# spark_version = 'spark-3.0.2'\n",
        "spark_version = 'spark-3.1.1'\n",
        "os.environ['SPARK_VERSION']=spark_version\n",
        "\n",
        "# Install Spark and Java\n",
        "!apt-get update\n",
        "!apt-get install openjdk-11-jdk-headless -qq > /dev/null\n",
        "!wget -q http://www-us.apache.org/dist/spark/$SPARK_VERSION/$SPARK_VERSION-bin-hadoop2.7.tgz\n",
        "!tar xf $SPARK_VERSION-bin-hadoop2.7.tgz\n",
        "!pip install -q findspark\n",
        "\n",
        "# Set Environment Variables\n",
        "os.environ[\"JAVA_HOME\"] = \"/usr/lib/jvm/java-11-openjdk-amd64\"\n",
        "os.environ[\"SPARK_HOME\"] = f\"/content/{spark_version}-bin-hadoop2.7\"\n",
        "\n",
        "# Start a SparkSession\n",
        "import findspark\n",
        "findspark.init()"
      ],
      "execution_count": 1,
      "outputs": [
        {
          "output_type": "stream",
          "text": [
            "Get:1 https://cloud.r-project.org/bin/linux/ubuntu bionic-cran40/ InRelease [3,626 B]\n",
            "Ign:2 https://developer.download.nvidia.com/compute/cuda/repos/ubuntu1804/x86_64  InRelease\n",
            "Get:3 http://security.ubuntu.com/ubuntu bionic-security InRelease [88.7 kB]\n",
            "Ign:4 https://developer.download.nvidia.com/compute/machine-learning/repos/ubuntu1804/x86_64  InRelease\n",
            "Hit:5 https://developer.download.nvidia.com/compute/cuda/repos/ubuntu1804/x86_64  Release\n",
            "Hit:6 https://developer.download.nvidia.com/compute/machine-learning/repos/ubuntu1804/x86_64  Release\n",
            "Hit:7 http://archive.ubuntu.com/ubuntu bionic InRelease\n",
            "Get:8 http://ppa.launchpad.net/c2d4u.team/c2d4u4.0+/ubuntu bionic InRelease [15.9 kB]\n",
            "Get:10 http://archive.ubuntu.com/ubuntu bionic-updates InRelease [88.7 kB]\n",
            "Hit:12 http://ppa.launchpad.net/cran/libgit2/ubuntu bionic InRelease\n",
            "Get:13 http://archive.ubuntu.com/ubuntu bionic-backports InRelease [74.6 kB]\n",
            "Hit:14 http://ppa.launchpad.net/deadsnakes/ppa/ubuntu bionic InRelease\n",
            "Get:15 http://security.ubuntu.com/ubuntu bionic-security/restricted amd64 Packages [348 kB]\n",
            "Get:16 http://ppa.launchpad.net/graphics-drivers/ppa/ubuntu bionic InRelease [21.3 kB]\n",
            "Get:17 http://archive.ubuntu.com/ubuntu bionic-updates/main amd64 Packages [2,475 kB]\n",
            "Get:18 http://security.ubuntu.com/ubuntu bionic-security/main amd64 Packages [2,045 kB]\n",
            "Get:19 http://ppa.launchpad.net/c2d4u.team/c2d4u4.0+/ubuntu bionic/main Sources [1,748 kB]\n",
            "Get:20 http://security.ubuntu.com/ubuntu bionic-security/universe amd64 Packages [1,402 kB]\n",
            "Get:21 http://archive.ubuntu.com/ubuntu bionic-updates/universe amd64 Packages [2,170 kB]\n",
            "Get:22 http://archive.ubuntu.com/ubuntu bionic-updates/restricted amd64 Packages [378 kB]\n",
            "Get:23 http://ppa.launchpad.net/c2d4u.team/c2d4u4.0+/ubuntu bionic/main amd64 Packages [894 kB]\n",
            "Get:24 http://ppa.launchpad.net/graphics-drivers/ppa/ubuntu bionic/main amd64 Packages [49.4 kB]\n",
            "Fetched 11.8 MB in 7s (1,772 kB/s)\n",
            "Reading package lists... Done\n"
          ],
          "name": "stdout"
        }
      ]
    },
    {
      "cell_type": "code",
      "metadata": {
        "id": "PGz7jthGxsxY"
      },
      "source": [
        "# Start Spark session\n",
        "from pyspark.sql import SparkSession\n",
        "spark = SparkSession.builder.appName(\"Advertising Spend\").config(\"spark.driver.extraClassPath\",\"/content/postgresql-42.2.9.jar\").getOrCreate()"
      ],
      "execution_count": 2,
      "outputs": []
    },
    {
      "cell_type": "code",
      "metadata": {
        "colab": {
          "base_uri": "https://localhost:8080/"
        },
        "id": "CeSBeemHxyVW",
        "outputId": "087dbfe1-fbf8-4bb3-ef75-f27001e2b9dd"
      },
      "source": [
        "# Read in data from S3 Buckets\n",
        "from pyspark import SparkFiles\n",
        "url = \"https://2u-data-curriculum-team.s3.amazonaws.com/dataviz-netflix/unit-7/AdvertisingSpend.csv\"\n",
        "spark.sparkContext.addFile(url)\n",
        "df = spark.read.csv(SparkFiles.get(\"AdvertisingSpend.csv\"), sep=\",\", header=True)\n",
        "\n",
        "# Show DataFrame\n",
        "df.show()\n"
      ],
      "execution_count": 3,
      "outputs": [
        {
          "output_type": "stream",
          "text": [
            "+------------------+------------------+------------------+------------------+------------------+------------------+------------------+------------------+------------------+------------------+------------------+------------------+------------------+------------------+------------------+\n",
            "|              Type|            Source|              2012|              2013|              2014|              2015|              2016|              2017|              2018|              2019|              2020|              2021|              2022|              2023|              2024|\n",
            "+------------------+------------------+------------------+------------------+------------------+------------------+------------------+------------------+------------------+------------------+------------------+------------------+------------------+------------------+------------------+\n",
            "|          Total TV|          Total TV|  \t60,914,800,000 |  \t62,895,700,000 |  \t64,401,700,000 |  \t65,382,100,000 |  \t67,440,100,000 |  \t66,286,100,000 |  \t64,837,900,000 |  \t64,998,900,000 |  \t52,560,300,000 |  \t53,182,800,000 |  \t51,431,600,000 |  \t52,055,300,000 |  \t52,196,700,000 |\n",
            "|                TV|       National TV|  \t38,584,900,000 |  \t39,577,100,000 |  \t41,064,200,000 |  \t41,313,100,000 |  \t43,416,800,000 |  \t41,835,600,000 |  \t42,992,300,000 |  \t42,855,800,000 |  \t38,024,800,000 |  \t40,138,700,000 |  \t40,227,300,000 |  \t40,285,000,000 |  \t40,310,100,000 |\n",
            "|                TV|          Local TV|  \t22,329,900,000 |  \t23,318,600,000 |  \t23,337,500,000 |  \t24,069,000,000 |  \t24,023,300,000 |  \t24,450,500,000 |  \t21,845,600,000 |  \t22,143,100,000 |  \t14,535,500,000 |  \t13,044,100,000 |  \t11,204,300,000 |  \t11,770,200,000 |  \t11,886,600,000 |\n",
            "|             Radio|       Total Radio|  \t16,303,500,000 |  \t16,591,300,000 |  \t16,165,600,000 |  \t16,385,700,000 |  \t16,554,800,000 |  \t16,712,100,000 |  \t15,990,700,000 |  \t16,420,500,000 |  \t12,085,400,000 |  \t11,179,500,000 |  \t10,957,000,000 |  \t10,711,200,000 |  \t10,440,800,000 |\n",
            "|        Newspapers|  Total Newspapers|  \t24,926,500,000 |  \t23,503,000,000 |  \t21,677,800,000 |  \t20,269,200,000 |  \t17,802,400,000 |  \t16,374,600,000 |  \t13,939,500,000 |  \t12,346,600,000 |   \t8,257,200,000 |   \t6,473,200,000 |   \t5,551,800,000 |   \t4,569,300,000 |   \t3,522,900,000 |\n",
            "|         Magazines|   Total Magazines|  \t19,370,500,000 |  \t18,927,500,000 |  \t17,247,000,000 |  \t15,841,800,000 |  \t14,306,900,000 |  \t13,101,300,000 |  \t11,805,400,000 |  \t10,798,200,000 |   \t8,480,000,000 |   \t7,089,400,000 |   \t6,186,500,000 |   \t5,223,000,000 |   \t4,196,200,000 |\n",
            "|             Other|       Out-of-Home|   \t6,516,700,000 |   \t6,889,900,000 |   \t6,806,000,000 |   \t7,282,500,000 |   \t7,319,700,000 |   \t7,599,100,000 |   \t7,714,400,000 |   \t8,358,800,000 |   \t6,607,600,000 |   \t7,083,800,000 |   \t7,296,300,000 |   \t7,515,200,000 |   \t7,740,700,000 |\n",
            "|             Other|       Direct Mail|  \t16,257,400,000 |  \t16,814,000,000 |  \t17,327,400,000 |  \t17,479,000,000 |  \t16,864,500,000 |  \t16,266,000,000 |  \t16,097,000,000 |  \t15,887,600,000 |  \t13,401,000,000 |  \t13,074,200,000 |  \t12,730,200,000 |  \t12,353,700,000 |  \t11,943,200,000 |\n",
            "|             Other|       Directories|   \t6,129,000,000 |   \t4,486,000,000 |   \t4,707,000,000 |   \t4,320,000,000 |   \t3,758,000,000 |   \t3,342,000,000 |   \t2,706,000,000 |   \t2,118,100,000 |   \t1,321,400,000 |     \t874,400,000 |     \t621,700,000 |     \t353,100,000 |      \t67,800,000 |\n",
            "|Pure-Play Internet|Pure-Play Internet|  \t28,385,000,000 |  \t32,883,500,000 |  \t38,450,000,000 |  \t46,840,200,000 |  \t57,679,700,000 |  \t73,504,300,000 |  \t90,492,100,000 | \t107,888,900,000 | \t105,213,900,000 | \t117,660,400,000 | \t128,341,100,000 | \t137,028,800,000 | \t146,595,700,000 |\n",
            "|Pure-Play Internet|            Search|  \t18,858,000,000 |  \t21,278,900,000 |  \t24,876,600,000 |  \t29,233,800,000 |  \t33,870,300,000 |  \t40,410,100,000 |  \t47,610,800,000 |  \t54,322,400,000 |  \t52,975,500,000 |  \t59,242,400,000 |  \t63,015,900,000 |  \t65,911,300,000 |  \t69,047,000,000 |\n",
            "|Pure-Play Internet|         Ex-Search|   \t9,527,000,000 |  \t11,604,600,000 |  \t13,573,400,000 |  \t17,606,300,000 |  \t23,809,300,000 |  \t33,094,200,000 |  \t42,881,300,000 |  \t53,566,500,000 |  \t52,238,400,000 |  \t58,418,100,000 |  \t65,325,300,000 |  \t71,117,600,000 |  \t77,548,700,000 |\n",
            "|       Media total|       Media total| \t178,803,500,000 | \t182,990,900,000 | \t186,782,500,000 | \t193,800,600,000 | \t201,726,100,000 | \t213,185,500,000 | \t223,582,800,000 | \t238,817,500,000 | \t207,926,900,000 | \t216,617,700,000 | \t223,116,300,000 | \t229,809,800,000 | \t236,704,100,000 |\n",
            "+------------------+------------------+------------------+------------------+------------------+------------------+------------------+------------------+------------------+------------------+------------------+------------------+------------------+------------------+------------------+\n",
            "\n"
          ],
          "name": "stdout"
        }
      ]
    },
    {
      "cell_type": "code",
      "metadata": {
        "id": "DD_csJZwx6oJ"
      },
      "source": [
        "def million_div(dollar):\n",
        "  dollar = dollar.replace(\",\",\"\")\n",
        "  dollar_value=float(dollar)/1000000\n",
        "  return dollar_value\n"
      ],
      "execution_count": 29,
      "outputs": []
    },
    {
      "cell_type": "code",
      "metadata": {
        "id": "69vNr-7g4_wn"
      },
      "source": [
        "def select_creator(column_array):\n",
        "  query = \"select Type, \"\n",
        "  for a in column_array:\n",
        "    query = query + \"million_div(`\" + str(a) + \"`), \"\n",
        "  query = query + \"Source from DollarVersion\"\n",
        "  return query"
      ],
      "execution_count": 46,
      "outputs": []
    },
    {
      "cell_type": "code",
      "metadata": {
        "id": "JlpGnYLz6IbV"
      },
      "source": [
        "query = select_creator([2012,2013,2014,2015,2016])"
      ],
      "execution_count": 47,
      "outputs": []
    },
    {
      "cell_type": "code",
      "metadata": {
        "id": "ymWJfL4D6GlL"
      },
      "source": [
        ""
      ],
      "execution_count": null,
      "outputs": []
    },
    {
      "cell_type": "code",
      "metadata": {
        "colab": {
          "base_uri": "https://localhost:8080/"
        },
        "id": "OokUswylzJGb",
        "outputId": "217e9982-2177-4368-8901-e8e1f9590ecd"
      },
      "source": [
        "spark.udf.register(\"million_div\", million_div)"
      ],
      "execution_count": 30,
      "outputs": [
        {
          "output_type": "execute_result",
          "data": {
            "text/plain": [
              "<function __main__.million_div>"
            ]
          },
          "metadata": {
            "tags": []
          },
          "execution_count": 30
        }
      ]
    },
    {
      "cell_type": "code",
      "metadata": {
        "id": "qrWtJ4JUzo7V"
      },
      "source": [
        "df.createOrReplaceTempView(\"DollarVersion\")"
      ],
      "execution_count": 31,
      "outputs": []
    },
    {
      "cell_type": "code",
      "metadata": {
        "colab": {
          "base_uri": "https://localhost:8080/"
        },
        "id": "w9_xFF0e0Mxi",
        "outputId": "ac48e9e3-aac8-4b55-ae58-4ad93dab2cd8"
      },
      "source": [
        "temp_df = spark.sql(query)\n",
        "temp_df.show()"
      ],
      "execution_count": 48,
      "outputs": [
        {
          "output_type": "stream",
          "text": [
            "+------------------+-----------------+-----------------+-----------------+-----------------+-----------------+------------------+\n",
            "|              Type|million_div(2012)|million_div(2013)|million_div(2014)|million_div(2015)|million_div(2016)|            Source|\n",
            "+------------------+-----------------+-----------------+-----------------+-----------------+-----------------+------------------+\n",
            "|          Total TV|          60914.8|          62895.7|          64401.7|          65382.1|          67440.1|          Total TV|\n",
            "|                TV|          38584.9|          39577.1|          41064.2|          41313.1|          43416.8|       National TV|\n",
            "|                TV|          22329.9|          23318.6|          23337.5|          24069.0|          24023.3|          Local TV|\n",
            "|             Radio|          16303.5|          16591.3|          16165.6|          16385.7|          16554.8|       Total Radio|\n",
            "|        Newspapers|          24926.5|          23503.0|          21677.8|          20269.2|          17802.4|  Total Newspapers|\n",
            "|         Magazines|          19370.5|          18927.5|          17247.0|          15841.8|          14306.9|   Total Magazines|\n",
            "|             Other|           6516.7|           6889.9|           6806.0|           7282.5|           7319.7|       Out-of-Home|\n",
            "|             Other|          16257.4|          16814.0|          17327.4|          17479.0|          16864.5|       Direct Mail|\n",
            "|             Other|           6129.0|           4486.0|           4707.0|           4320.0|           3758.0|       Directories|\n",
            "|Pure-Play Internet|          28385.0|          32883.5|          38450.0|          46840.2|          57679.7|Pure-Play Internet|\n",
            "|Pure-Play Internet|          18858.0|          21278.9|          24876.6|          29233.8|          33870.3|            Search|\n",
            "|Pure-Play Internet|           9527.0|          11604.6|          13573.4|          17606.3|          23809.3|         Ex-Search|\n",
            "|       Media total|         178803.5|         182990.9|         186782.5|         193800.6|         201726.1|       Media total|\n",
            "+------------------+-----------------+-----------------+-----------------+-----------------+-----------------+------------------+\n",
            "\n"
          ],
          "name": "stdout"
        }
      ]
    },
    {
      "cell_type": "code",
      "metadata": {
        "id": "bdC_8HnQ6_rl"
      },
      "source": [
        ""
      ],
      "execution_count": null,
      "outputs": []
    }
  ]
}