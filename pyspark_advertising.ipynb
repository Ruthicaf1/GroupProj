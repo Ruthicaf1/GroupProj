{
  "nbformat": 4,
  "nbformat_minor": 0,
  "metadata": {
    "colab": {
      "name": "Untitled0.ipynb",
      "provenance": [],
      "authorship_tag": "ABX9TyMQdyaFg72/6y4H6sKBChJG",
      "include_colab_link": true
    },
    "kernelspec": {
      "name": "python3",
      "display_name": "Python 3"
    },
    "language_info": {
      "name": "python"
    }
  },
  "cells": [
    {
      "cell_type": "markdown",
      "metadata": {
        "id": "view-in-github",
        "colab_type": "text"
      },
      "source": [
        "<a href=\"https://colab.research.google.com/github/Ruthicaf1/GroupProj/blob/main/pyspark_advertising.ipynb\" target=\"_parent\"><img src=\"https://colab.research.google.com/assets/colab-badge.svg\" alt=\"Open In Colab\"/></a>"
      ]
    },
    {
      "cell_type": "code",
      "metadata": {
        "colab": {
          "base_uri": "https://localhost:8080/"
        },
        "id": "AF9IYWbFnU-C",
        "outputId": "b9c3ca43-e618-4d25-ecd7-a7921f5f8ad1"
      },
      "source": [
        "import os\n",
        "# Find the latest version of spark 3.0  from http://www-us.apache.org/dist/spark/ and enter as the spark version\n",
        "# For example:\n",
        "# spark_version = 'spark-3.0.2'\n",
        "spark_version = 'spark-3.1.1'\n",
        "os.environ['SPARK_VERSION']=spark_version\n",
        "\n",
        "# Install Spark and Java\n",
        "!apt-get update\n",
        "!apt-get install openjdk-11-jdk-headless -qq > /dev/null\n",
        "!wget -q http://www-us.apache.org/dist/spark/$SPARK_VERSION/$SPARK_VERSION-bin-hadoop2.7.tgz\n",
        "!tar xf $SPARK_VERSION-bin-hadoop2.7.tgz\n",
        "!pip install -q findspark\n",
        "\n",
        "# Set Environment Variables\n",
        "os.environ[\"JAVA_HOME\"] = \"/usr/lib/jvm/java-11-openjdk-amd64\"\n",
        "os.environ[\"SPARK_HOME\"] = f\"/content/{spark_version}-bin-hadoop2.7\"\n",
        "\n",
        "# Start a SparkSession\n",
        "import findspark\n",
        "findspark.init()"
      ],
      "execution_count": 1,
      "outputs": [
        {
          "output_type": "stream",
          "text": [
            "\r0% [Working]\r            \rGet:1 https://cloud.r-project.org/bin/linux/ubuntu bionic-cran40/ InRelease [3,626 B]\n",
            "\r0% [Connecting to archive.ubuntu.com (91.189.88.152)] [Connecting to security.u\r0% [Connecting to archive.ubuntu.com (91.189.88.152)] [Connecting to security.u\r                                                                               \rIgn:2 https://developer.download.nvidia.com/compute/cuda/repos/ubuntu1804/x86_64  InRelease\n",
            "\r0% [Connecting to archive.ubuntu.com (91.189.88.152)] [Connecting to security.u\r0% [1 InRelease gpgv 3,626 B] [Connecting to archive.ubuntu.com (91.189.88.152)\r                                                                               \rIgn:3 https://developer.download.nvidia.com/compute/machine-learning/repos/ubuntu1804/x86_64  InRelease\n",
            "\r0% [1 InRelease gpgv 3,626 B] [Connecting to archive.ubuntu.com (91.189.88.152)\r                                                                               \rHit:4 https://developer.download.nvidia.com/compute/cuda/repos/ubuntu1804/x86_64  Release\n",
            "Hit:5 https://developer.download.nvidia.com/compute/machine-learning/repos/ubuntu1804/x86_64  Release\n",
            "Hit:6 http://archive.ubuntu.com/ubuntu bionic InRelease\n",
            "Get:7 http://security.ubuntu.com/ubuntu bionic-security InRelease [88.7 kB]\n",
            "Get:8 http://ppa.launchpad.net/c2d4u.team/c2d4u4.0+/ubuntu bionic InRelease [15.9 kB]\n",
            "Get:9 http://archive.ubuntu.com/ubuntu bionic-updates InRelease [88.7 kB]\n",
            "Hit:12 http://ppa.launchpad.net/cran/libgit2/ubuntu bionic InRelease\n",
            "Get:13 http://archive.ubuntu.com/ubuntu bionic-backports InRelease [74.6 kB]\n",
            "Hit:14 http://ppa.launchpad.net/deadsnakes/ppa/ubuntu bionic InRelease\n",
            "Get:15 http://security.ubuntu.com/ubuntu bionic-security/restricted amd64 Packages [348 kB]\n",
            "Get:16 http://ppa.launchpad.net/graphics-drivers/ppa/ubuntu bionic InRelease [21.3 kB]\n",
            "Get:17 http://security.ubuntu.com/ubuntu bionic-security/main amd64 Packages [2,045 kB]\n",
            "Get:18 http://ppa.launchpad.net/c2d4u.team/c2d4u4.0+/ubuntu bionic/main Sources [1,748 kB]\n",
            "Get:19 http://security.ubuntu.com/ubuntu bionic-security/universe amd64 Packages [1,402 kB]\n",
            "Get:20 http://archive.ubuntu.com/ubuntu bionic-updates/universe amd64 Packages [2,170 kB]\n",
            "Get:21 http://archive.ubuntu.com/ubuntu bionic-updates/restricted amd64 Packages [378 kB]\n",
            "Get:22 http://archive.ubuntu.com/ubuntu bionic-updates/main amd64 Packages [2,475 kB]\n",
            "Get:23 http://ppa.launchpad.net/c2d4u.team/c2d4u4.0+/ubuntu bionic/main amd64 Packages [894 kB]\n",
            "Get:24 http://ppa.launchpad.net/graphics-drivers/ppa/ubuntu bionic/main amd64 Packages [49.4 kB]\n",
            "Fetched 11.8 MB in 4s (2,681 kB/s)\n",
            "Reading package lists... Done\n"
          ],
          "name": "stdout"
        }
      ]
    },
    {
      "cell_type": "code",
      "metadata": {
        "id": "Pj0iFvqInh7G"
      },
      "source": [
        "# Start Spark session\n",
        "from pyspark.sql import SparkSession\n",
        "spark = SparkSession.builder.appName(\"PCard Transactions\").getOrCreate()"
      ],
      "execution_count": 2,
      "outputs": []
    },
    {
      "cell_type": "code",
      "metadata": {
        "colab": {
          "base_uri": "https://localhost:8080/"
        },
        "id": "pCFb8o30nq4v",
        "outputId": "62d3f89b-6e0b-45de-c17a-7e185339fc2b"
      },
      "source": [
        "# Read in data from S3 Buckets\n",
        "from pyspark import SparkFiles\n",
        "url = \"https://2u-data-curriculum-team.s3.amazonaws.com/dataviz-netflix/unit-7/pcard_transactions.csv\"\n",
        "spark.sparkContext.addFile(url)\n",
        "df = spark.read.csv(SparkFiles.get(\"pcard_transactions.csv\"), sep=\",\", header=True)\n",
        "\n",
        "# Show DataFrame\n",
        "df.show()"
      ],
      "execution_count": 3,
      "outputs": [
        {
          "output_type": "stream",
          "text": [
            "+----------+-------------+--------------------+--------------------+------------------------+--------------------+------+--------------------+--------------------+--------------------+----------------------------+\n",
            "|Year-Month|Agency Number|         Agency Name|Cardholder Last Name|Cardholder First Initial|         Description|Amount|              Vendor|    Transaction Date|         Posted Date|Merchant Category Code (MCC)|\n",
            "+----------+-------------+--------------------+--------------------+------------------------+--------------------+------+--------------------+--------------------+--------------------+----------------------------+\n",
            "|    201307|         1000|OKLAHOMA STATE UN...|               Mason|                       C|    GENERAL PURCHASE|   890|               NACAS|07/30/2013 12:00:...|07/31/2013 12:00:...|        CHARITABLE AND SO...|\n",
            "|    201307|         1000|OKLAHOMA STATE UN...|               Mason|                       C|        ROOM CHARGES|368.96|      SHERATON HOTEL|07/30/2013 12:00:...|07/31/2013 12:00:...|                    SHERATON|\n",
            "|    201307|         1000|OKLAHOMA STATE UN...|              Massey|                       J|    GENERAL PURCHASE|165.82|      SEARS.COM 9300|07/29/2013 12:00:...|07/31/2013 12:00:...|        DIRCT MARKETING/D...|\n",
            "|    201307|         1000|OKLAHOMA STATE UN...|              Massey|                       T|    GENERAL PURCHASE| 96.39|      WAL-MART #0137|07/30/2013 12:00:...|07/31/2013 12:00:...|        GROCERY STORES,AN...|\n",
            "|    201307|         1000|OKLAHOMA STATE UN...|       Mauro-Herrera|                       M|HAMMERMILL COPY P...|125.96|      STAPLES DIRECT|07/30/2013 12:00:...|07/31/2013 12:00:...|        STATIONERY, OFFIC...|\n",
            "|    201307|         1000|OKLAHOMA STATE UN...|       Mauro-Herrera|                       M|    GENERAL PURCHASE|394.28|KYOCERA DOCUMENT ...|07/29/2013 12:00:...|07/31/2013 12:00:...|        OFFICE, PHOTOGRAP...|\n",
            "|    201307|         1000|OKLAHOMA STATE UN...|                Mays|                       B|    GENERAL PURCHASE| 19.87|      WAL-MART #0137|07/30/2013 12:00:...|07/31/2013 12:00:...|        GROCERY STORES,AN...|\n",
            "|    201307|         1000|OKLAHOMA STATE UN...|                Mays|                       B|    GENERAL PURCHASE|  10.1|     DAYLIGHT DONUTS|07/29/2013 12:00:...|07/31/2013 12:00:...|        FAST FOOD RESTAUR...|\n",
            "|    201307|         1000|OKLAHOMA STATE UN...|            McCarthy|                       D|    GENERAL PURCHASE| 142.6|UFIRST  LAUNDRY SVCS|07/30/2013 12:00:...|07/31/2013 12:00:...|        MENS, WOMENS AND ...|\n",
            "|    201307|         1000|OKLAHOMA STATE UN...|             McClurg|                       L|AT&T SERVICE PAYM...| 29.99|           AT&T DATA|07/30/2013 12:00:...|07/31/2013 12:00:...|        TELECOMMUNICATION...|\n",
            "|    201307|         1000|OKLAHOMA STATE UN...|             McGowin|                       R|    GENERAL PURCHASE|278.23|       RANDY'S FOODS|07/29/2013 12:00:...|07/31/2013 12:00:...|        FREEZER AND LOCKE...|\n",
            "|    201307|         1000|OKLAHOMA STATE UN...|               McKee|                       P|    GENERAL PURCHASE| 127.8|DEARINGER PRINTIN...|07/30/2013 12:00:...|07/31/2013 12:00:...|        MISCELLANEOUS AND...|\n",
            "|    201307|         1000|OKLAHOMA STATE UN...|            McLemore|                       A|    GENERAL PURCHASE|572.27|GIDDINGS MACHINE CO.|07/30/2013 12:00:...|07/31/2013 12:00:...|        COMMERCIAL EQUIPM...|\n",
            "|    201307|         1000|OKLAHOMA STATE UN...|             McMurry|                       S|50-LB PLAY SAND B...|  12.9|        LOWES #00241|07/30/2013 12:00:...|07/31/2013 12:00:...|        HOME SUPPLY WAREH...|\n",
            "|    201307|         1000|OKLAHOMA STATE UN...|              Meints|                       K|    GENERAL PURCHASE|   445|OK DEPT OF VO-TEC...|07/30/2013 12:00:...|07/31/2013 12:00:...|        GOVERNMENT SERVIC...|\n",
            "|    201307|         1000|OKLAHOMA STATE UN...|           Mohiuddin|                       A|    GENERAL PURCHASE|452.91| TFS THERMOASHEVILLE|07/31/2013 12:00:...|07/31/2013 12:00:...|        DENTAL/LABORATORY...|\n",
            "|    201307|         1000|OKLAHOMA STATE UN...|           Mohiuddin|                       I|    GENERAL PURCHASE|  2425|WESTERN EQUIPMENT...|07/29/2013 12:00:...|07/31/2013 12:00:...|             HARDWARE STORES|\n",
            "|    201307|         1000|OKLAHOMA STATE UN...|           Mohiuddin|                       I|    GENERAL PURCHASE|  2425|WESTERN EQUIPMENT...|07/29/2013 12:00:...|07/31/2013 12:00:...|             HARDWARE STORES|\n",
            "|    201307|         1000|OKLAHOMA STATE UN...|         Mollenhauer|                       R|    GENERAL PURCHASE|  7.63|   HOBBY-LOBBY #0005|07/29/2013 12:00:...|07/31/2013 12:00:...|        HOBBY,TOY,AND GAM...|\n",
            "|    201307|         1000|OKLAHOMA STATE UN...|          MONTGOMERY|                       R|    GENERAL PURCHASE| 18.97|      WAL-MART #0121|07/30/2013 12:00:...|07/31/2013 12:00:...|        GROCERY STORES,AN...|\n",
            "+----------+-------------+--------------------+--------------------+------------------------+--------------------+------+--------------------+--------------------+--------------------+----------------------------+\n",
            "only showing top 20 rows\n",
            "\n"
          ],
          "name": "stdout"
        }
      ]
    },
    {
      "cell_type": "code",
      "metadata": {
        "id": "buELYyB-v_R1"
      },
      "source": [
        "# Start Spark session\n",
        "from pyspark.sql import SparkSession\n",
        "spark = SparkSession.builder.appName(\"Rainfall Temperature\").config(\"spark.driver.extraClassPath\",\"/content/postgresql-42.2.9.jar\").getOrCreate()"
      ],
      "execution_count": 4,
      "outputs": []
    },
    {
      "cell_type": "code",
      "metadata": {
        "colab": {
          "base_uri": "https://localhost:8080/"
        },
        "id": "Y1CYjrwBwFAE",
        "outputId": "1337b570-f21c-4b18-f705-bb0252874c42"
      },
      "source": [
        "# Read in data from S3 Buckets\n",
        "from pyspark import SparkFiles\n",
        "url = \"https://2u-data-curriculum-team.s3.amazonaws.com/dataviz-netflix/unit-7/rainfall_temperature.csv\"\n",
        "spark.sparkContext.addFile(url)\n",
        "df = spark.read.csv(SparkFiles.get(\"rainfall_temperature.csv\"), sep=\",\", header=True)\n",
        "\n",
        "# Show DataFrame\n",
        "df.show()"
      ],
      "execution_count": 5,
      "outputs": [
        {
          "output_type": "stream",
          "text": [
            "+----------------+--------------------+-------------------+-------------------+-------------------+----------+--------------+-------------------+----+------+----------+-----+----+----+----+----+----+----+----+----+----+----+----+----+----+----+----+----+----+----+----+----+----+-----+----+----+\n",
            "|OrganisationName|    OrganisationCode|      PublishedDate|       DurationFrom|         DurationTo|LatestData|       GeoName|ReportingPeriodType|Year|Period|Rainfallmm| Temp|_c12|_c13|_c14|_c15|_c16|_c17|_c18|_c19|_c20|_c21|_c22|_c23|_c24|_c25|_c26|_c27|_c28|_c29|_c30|_c31|_c32| _c33|_c34|_c35|\n",
            "+----------------+--------------------+-------------------+-------------------+-------------------+----------+--------------+-------------------+----+------+----------+-----+----+----+----+----+----+----+----+----+----+----+----+----+----+----+----+----+----+----+----+----+----+-----+----+----+\n",
            "|    Lincolnshire|http://opendataco...|2019-02-27T00:00:00|2010-01-01T00:00:00|2010-01-31T00:00:00|      TRUE|England E & NE|            Monthly|2010|   JAN|      69.5|  0.8|null|null|null|null|null|null|2019| 3.4|   6|   7| 7.8|10.3|13.4|  17|16.5|13.4| 8.8| 5.6| 4.9|4.89|8.38|15.67|9.26|9.54|\n",
            "|    Lincolnshire|http://opendataco...|2019-02-27T00:00:00|2010-02-01T00:00:00|2010-02-28T00:00:00|      TRUE|England E & NE|            Monthly|2010|   FEB|      71.7|  1.6|null|null|null|null|null|null|null|null|null|null|null|null|null|null|null|null|null|null|null|null|null| null|null|null|\n",
            "|    Lincolnshire|http://opendataco...|2019-02-27T00:00:00|2010-03-01T00:00:00|2010-03-31T00:00:00|      TRUE|England E & NE|            Monthly|2010|   MAR|      65.1|  5.5|null|null|null|null|null|null|null|null|null|null|null|null|null|null|null|null|null|null|null|null|null| null|null|null|\n",
            "|    Lincolnshire|http://opendataco...|2019-02-27T00:00:00|2010-04-01T00:00:00|2010-04-30T00:00:00|      TRUE|England E & NE|            Monthly|2010|   APR|      21.4|  8.2|null|null|null|null|null|null|null|null|null|null|null|null|null|null|null|null|null|null|null|null|null| null|null|null|\n",
            "|    Lincolnshire|http://opendataco...|2019-02-27T00:00:00|2010-05-01T00:00:00|2010-05-31T00:00:00|      TRUE|England E & NE|            Monthly|2010|   MAY|      22.1|  9.8|null|null|null|null|null|null|null|null|null|null|null|null|null|null|null|null|null|null|null|null|null| null|null|null|\n",
            "|    Lincolnshire|http://opendataco...|2019-02-27T00:00:00|2010-06-01T00:00:00|2010-06-30T00:00:00|      TRUE|England E & NE|            Monthly|2010|   JUN|      42.7| 14.3|null|null|null|null|null|null|null|null|null|null|null|null|null|null|null|null|null|null|null|null|null| null|null|null|\n",
            "|    Lincolnshire|http://opendataco...|2019-02-27T00:00:00|2010-07-01T00:00:00|2010-07-31T00:00:00|      TRUE|England E & NE|            Monthly|2010|   JUL|      61.1| 16.4|null|null|null|null|null|null|null|null|null|null|null|null|null|null|null|null|null|null|null|null|null| null|null|null|\n",
            "|    Lincolnshire|http://opendataco...|2019-02-27T00:00:00|2010-08-01T00:00:00|2010-08-31T00:00:00|      TRUE|England E & NE|            Monthly|2010|   AUG|      76.6| 14.6|null|null|null|null|null|null|null|null|null|null|null|null|null|null|null|null|null|null|null|null|null| null|null|null|\n",
            "|    Lincolnshire|http://opendataco...|2019-02-27T00:00:00|2010-09-01T00:00:00|2010-09-30T00:00:00|      TRUE|England E & NE|            Monthly|2010|   SEP|      83.9| 13.4|null|null|null|null|null|null|null|null|null|null|null|null|null|null|null|null|null|null|null|null|null| null|null|null|\n",
            "|    Lincolnshire|http://opendataco...|2019-02-27T00:00:00|2010-10-01T00:00:00|2010-10-31T00:00:00|      TRUE|England E & NE|            Monthly|2010|   OCT|        65|  9.6|null|null|null|null|null|null|null|null|null|null|null|null|null|null|null|null|null|null|null|null|null| null|null|null|\n",
            "|    Lincolnshire|http://opendataco...|2019-02-27T00:00:00|2010-11-01T00:00:00|2010-11-30T00:00:00|      TRUE|England E & NE|            Monthly|2010|   NOV|     118.2|  4.5|null|null|null|null|null|null|null|null|null|null|null|null|null|null|null|null|null|null|null|null|null| null|null|null|\n",
            "|    Lincolnshire|http://opendataco...|2019-02-27T00:00:00|2010-12-01T00:00:00|2010-12-31T00:00:00|      TRUE|England E & NE|            Monthly|2010|   DEC|      40.7| -1.2|null|null|null|null|null|null|null|null|null|null|null|null|null|null|null|null|null|null|null|null|null| null|null|null|\n",
            "|    Lincolnshire|http://opendataco...|2019-02-27T00:00:00|2009-12-01T00:00:00|2010-02-28T00:00:00|      TRUE|England E & NE|             Season|2010|Winter|     228.7| 1.52|null|null|null|null|null|null|null|null|null|null|null|null|null|null|null|null|null|null|null|null|null| null|null|null|\n",
            "|    Lincolnshire|http://opendataco...|2019-02-27T00:00:00|2010-03-01T00:00:00|2010-05-31T00:00:00|      TRUE|England E & NE|             Season|2010|Spring|     108.6| 7.85|null|null|null|null|null|null|null|null|null|null|null|null|null|null|null|null|null|null|null|null|null| null|null|null|\n",
            "|    Lincolnshire|http://opendataco...|2019-02-27T00:00:00|2010-06-01T00:00:00|2010-08-31T00:00:00|      TRUE|England E & NE|             Season|2010|Summer|     180.5|15.08|null|null|null|null|null|null|null|null|null|null|null|null|null|null|null|null|null|null|null|null|null| null|null|null|\n",
            "|    Lincolnshire|http://opendataco...|2019-02-27T00:00:00|2010-09-01T00:00:00|2010-11-30T00:00:00|      TRUE|England E & NE|             Season|2010|Autumn|     267.2| 9.17|null|null|null|null|null|null|null|null|null|null|null|null|null|null|null|null|null|null|null|null|null| null|null|null|\n",
            "|    Lincolnshire|http://opendataco...|2019-02-27T00:00:00|2010-01-01T00:00:00|2010-12-31T00:00:00|      TRUE|England E & NE|      Calendar Year|2010|Annual|     738.3| 8.16|null|null|null|null|null|null|null|null|null|null|null|null|null|null|null|null|null|null|null|null|null| null|null|null|\n",
            "|    Lincolnshire|http://opendataco...|2019-02-27T00:00:00|2011-01-01T00:00:00|2011-01-31T00:00:00|      TRUE|England E & NE|            Monthly|2011|   JAN|      54.5|  3.1|null|null|null|null|null|null|null|null|null|null|null|null|null|null|null|null|null|null|null|null|null| null|null|null|\n",
            "|    Lincolnshire|http://opendataco...|2019-02-27T00:00:00|2011-02-01T00:00:00|2011-02-28T00:00:00|      TRUE|England E & NE|            Monthly|2011|   FEB|        82|  5.4|null|null|null|null|null|null|null|null|null|null|null|null|null|null|null|null|null|null|null|null|null| null|null|null|\n",
            "|    Lincolnshire|http://opendataco...|2019-02-27T00:00:00|2011-03-01T00:00:00|2011-03-31T00:00:00|      TRUE|England E & NE|            Monthly|2011|   MAR|      20.5|    6|null|null|null|null|null|null|null|null|null|null|null|null|null|null|null|null|null|null|null|null|null| null|null|null|\n",
            "+----------------+--------------------+-------------------+-------------------+-------------------+----------+--------------+-------------------+----+------+----------+-----+----+----+----+----+----+----+----+----+----+----+----+----+----+----+----+----+----+----+----+----+----+-----+----+----+\n",
            "only showing top 20 rows\n",
            "\n"
          ],
          "name": "stdout"
        }
      ]
    },
    {
      "cell_type": "code",
      "metadata": {
        "id": "Z7jtvuYDwXSY"
      },
      "source": [
        "def celsius_to_fahrenheit(temperature):\n",
        "  temperature = float(temperature)\n",
        "  temperature = (temperature * 1.8) + 32\n",
        "  return temperature"
      ],
      "execution_count": 6,
      "outputs": []
    },
    {
      "cell_type": "code",
      "metadata": {
        "colab": {
          "base_uri": "https://localhost:8080/"
        },
        "id": "F0UqMWYRwtMo",
        "outputId": "5c8e3290-ce8e-42dc-ecac-3b053f124854"
      },
      "source": [
        "spark.udf.register(\"celsius_to_fahrenheit\", celsius_to_fahrenheit)"
      ],
      "execution_count": 7,
      "outputs": [
        {
          "output_type": "execute_result",
          "data": {
            "text/plain": [
              "<function __main__.celsius_to_fahrenheit>"
            ]
          },
          "metadata": {
            "tags": []
          },
          "execution_count": 7
        }
      ]
    },
    {
      "cell_type": "code",
      "metadata": {
        "id": "hIB7QNwtwxf1"
      },
      "source": [
        "df.createOrReplaceTempView(\"rainfall_temperature\")"
      ],
      "execution_count": 8,
      "outputs": []
    },
    {
      "cell_type": "code",
      "metadata": {
        "colab": {
          "base_uri": "https://localhost:8080/"
        },
        "id": "Q-rfYcJVw2kG",
        "outputId": "e5bb3f90-3831-49b8-f810-57f72a570dea"
      },
      "source": [
        "temp_df = spark.sql(\"SELECT PublishedDate, celsius_to_fahrenheit(Temp) FROM rainfall_temperature\")\n",
        "temp_df.show()"
      ],
      "execution_count": 9,
      "outputs": [
        {
          "output_type": "stream",
          "text": [
            "+-------------------+---------------------------+\n",
            "|      PublishedDate|celsius_to_fahrenheit(Temp)|\n",
            "+-------------------+---------------------------+\n",
            "|2019-02-27T00:00:00|                      33.44|\n",
            "|2019-02-27T00:00:00|                      34.88|\n",
            "|2019-02-27T00:00:00|                       41.9|\n",
            "|2019-02-27T00:00:00|                      46.76|\n",
            "|2019-02-27T00:00:00|                      49.64|\n",
            "|2019-02-27T00:00:00|                      57.74|\n",
            "|2019-02-27T00:00:00|         61.519999999999996|\n",
            "|2019-02-27T00:00:00|                      58.28|\n",
            "|2019-02-27T00:00:00|         56.120000000000005|\n",
            "|2019-02-27T00:00:00|                      49.28|\n",
            "|2019-02-27T00:00:00|                       40.1|\n",
            "|2019-02-27T00:00:00|                      29.84|\n",
            "|2019-02-27T00:00:00|                     34.736|\n",
            "|2019-02-27T00:00:00|         46.129999999999995|\n",
            "|2019-02-27T00:00:00|         59.144000000000005|\n",
            "|2019-02-27T00:00:00|                     48.506|\n",
            "|2019-02-27T00:00:00|                     46.688|\n",
            "|2019-02-27T00:00:00|                      37.58|\n",
            "|2019-02-27T00:00:00|                      41.72|\n",
            "|2019-02-27T00:00:00|                       42.8|\n",
            "+-------------------+---------------------------+\n",
            "only showing top 20 rows\n",
            "\n"
          ],
          "name": "stdout"
        }
      ]
    },
    {
      "cell_type": "code",
      "metadata": {
        "colab": {
          "base_uri": "https://localhost:8080/"
        },
        "id": "JeAmXkAkxMY1",
        "outputId": "f3ae1608-71a5-4463-86ba-150aadf5bca4"
      },
      "source": [
        "temp_df = spark.sql(\"SELECT *, celsius_to_fahrenheit(Temp) FROM rainfall_temperature\")\n",
        "temp_df.show()"
      ],
      "execution_count": 10,
      "outputs": [
        {
          "output_type": "stream",
          "text": [
            "+----------------+--------------------+-------------------+-------------------+-------------------+----------+--------------+-------------------+----+------+----------+-----+----+----+----+----+----+----+----+----+----+----+----+----+----+----+----+----+----+----+----+----+----+-----+----+----+---------------------------+\n",
            "|OrganisationName|    OrganisationCode|      PublishedDate|       DurationFrom|         DurationTo|LatestData|       GeoName|ReportingPeriodType|Year|Period|Rainfallmm| Temp|_c12|_c13|_c14|_c15|_c16|_c17|_c18|_c19|_c20|_c21|_c22|_c23|_c24|_c25|_c26|_c27|_c28|_c29|_c30|_c31|_c32| _c33|_c34|_c35|celsius_to_fahrenheit(Temp)|\n",
            "+----------------+--------------------+-------------------+-------------------+-------------------+----------+--------------+-------------------+----+------+----------+-----+----+----+----+----+----+----+----+----+----+----+----+----+----+----+----+----+----+----+----+----+----+-----+----+----+---------------------------+\n",
            "|    Lincolnshire|http://opendataco...|2019-02-27T00:00:00|2010-01-01T00:00:00|2010-01-31T00:00:00|      TRUE|England E & NE|            Monthly|2010|   JAN|      69.5|  0.8|null|null|null|null|null|null|2019| 3.4|   6|   7| 7.8|10.3|13.4|  17|16.5|13.4| 8.8| 5.6| 4.9|4.89|8.38|15.67|9.26|9.54|                      33.44|\n",
            "|    Lincolnshire|http://opendataco...|2019-02-27T00:00:00|2010-02-01T00:00:00|2010-02-28T00:00:00|      TRUE|England E & NE|            Monthly|2010|   FEB|      71.7|  1.6|null|null|null|null|null|null|null|null|null|null|null|null|null|null|null|null|null|null|null|null|null| null|null|null|                      34.88|\n",
            "|    Lincolnshire|http://opendataco...|2019-02-27T00:00:00|2010-03-01T00:00:00|2010-03-31T00:00:00|      TRUE|England E & NE|            Monthly|2010|   MAR|      65.1|  5.5|null|null|null|null|null|null|null|null|null|null|null|null|null|null|null|null|null|null|null|null|null| null|null|null|                       41.9|\n",
            "|    Lincolnshire|http://opendataco...|2019-02-27T00:00:00|2010-04-01T00:00:00|2010-04-30T00:00:00|      TRUE|England E & NE|            Monthly|2010|   APR|      21.4|  8.2|null|null|null|null|null|null|null|null|null|null|null|null|null|null|null|null|null|null|null|null|null| null|null|null|                      46.76|\n",
            "|    Lincolnshire|http://opendataco...|2019-02-27T00:00:00|2010-05-01T00:00:00|2010-05-31T00:00:00|      TRUE|England E & NE|            Monthly|2010|   MAY|      22.1|  9.8|null|null|null|null|null|null|null|null|null|null|null|null|null|null|null|null|null|null|null|null|null| null|null|null|                      49.64|\n",
            "|    Lincolnshire|http://opendataco...|2019-02-27T00:00:00|2010-06-01T00:00:00|2010-06-30T00:00:00|      TRUE|England E & NE|            Monthly|2010|   JUN|      42.7| 14.3|null|null|null|null|null|null|null|null|null|null|null|null|null|null|null|null|null|null|null|null|null| null|null|null|                      57.74|\n",
            "|    Lincolnshire|http://opendataco...|2019-02-27T00:00:00|2010-07-01T00:00:00|2010-07-31T00:00:00|      TRUE|England E & NE|            Monthly|2010|   JUL|      61.1| 16.4|null|null|null|null|null|null|null|null|null|null|null|null|null|null|null|null|null|null|null|null|null| null|null|null|         61.519999999999996|\n",
            "|    Lincolnshire|http://opendataco...|2019-02-27T00:00:00|2010-08-01T00:00:00|2010-08-31T00:00:00|      TRUE|England E & NE|            Monthly|2010|   AUG|      76.6| 14.6|null|null|null|null|null|null|null|null|null|null|null|null|null|null|null|null|null|null|null|null|null| null|null|null|                      58.28|\n",
            "|    Lincolnshire|http://opendataco...|2019-02-27T00:00:00|2010-09-01T00:00:00|2010-09-30T00:00:00|      TRUE|England E & NE|            Monthly|2010|   SEP|      83.9| 13.4|null|null|null|null|null|null|null|null|null|null|null|null|null|null|null|null|null|null|null|null|null| null|null|null|         56.120000000000005|\n",
            "|    Lincolnshire|http://opendataco...|2019-02-27T00:00:00|2010-10-01T00:00:00|2010-10-31T00:00:00|      TRUE|England E & NE|            Monthly|2010|   OCT|        65|  9.6|null|null|null|null|null|null|null|null|null|null|null|null|null|null|null|null|null|null|null|null|null| null|null|null|                      49.28|\n",
            "|    Lincolnshire|http://opendataco...|2019-02-27T00:00:00|2010-11-01T00:00:00|2010-11-30T00:00:00|      TRUE|England E & NE|            Monthly|2010|   NOV|     118.2|  4.5|null|null|null|null|null|null|null|null|null|null|null|null|null|null|null|null|null|null|null|null|null| null|null|null|                       40.1|\n",
            "|    Lincolnshire|http://opendataco...|2019-02-27T00:00:00|2010-12-01T00:00:00|2010-12-31T00:00:00|      TRUE|England E & NE|            Monthly|2010|   DEC|      40.7| -1.2|null|null|null|null|null|null|null|null|null|null|null|null|null|null|null|null|null|null|null|null|null| null|null|null|                      29.84|\n",
            "|    Lincolnshire|http://opendataco...|2019-02-27T00:00:00|2009-12-01T00:00:00|2010-02-28T00:00:00|      TRUE|England E & NE|             Season|2010|Winter|     228.7| 1.52|null|null|null|null|null|null|null|null|null|null|null|null|null|null|null|null|null|null|null|null|null| null|null|null|                     34.736|\n",
            "|    Lincolnshire|http://opendataco...|2019-02-27T00:00:00|2010-03-01T00:00:00|2010-05-31T00:00:00|      TRUE|England E & NE|             Season|2010|Spring|     108.6| 7.85|null|null|null|null|null|null|null|null|null|null|null|null|null|null|null|null|null|null|null|null|null| null|null|null|         46.129999999999995|\n",
            "|    Lincolnshire|http://opendataco...|2019-02-27T00:00:00|2010-06-01T00:00:00|2010-08-31T00:00:00|      TRUE|England E & NE|             Season|2010|Summer|     180.5|15.08|null|null|null|null|null|null|null|null|null|null|null|null|null|null|null|null|null|null|null|null|null| null|null|null|         59.144000000000005|\n",
            "|    Lincolnshire|http://opendataco...|2019-02-27T00:00:00|2010-09-01T00:00:00|2010-11-30T00:00:00|      TRUE|England E & NE|             Season|2010|Autumn|     267.2| 9.17|null|null|null|null|null|null|null|null|null|null|null|null|null|null|null|null|null|null|null|null|null| null|null|null|                     48.506|\n",
            "|    Lincolnshire|http://opendataco...|2019-02-27T00:00:00|2010-01-01T00:00:00|2010-12-31T00:00:00|      TRUE|England E & NE|      Calendar Year|2010|Annual|     738.3| 8.16|null|null|null|null|null|null|null|null|null|null|null|null|null|null|null|null|null|null|null|null|null| null|null|null|                     46.688|\n",
            "|    Lincolnshire|http://opendataco...|2019-02-27T00:00:00|2011-01-01T00:00:00|2011-01-31T00:00:00|      TRUE|England E & NE|            Monthly|2011|   JAN|      54.5|  3.1|null|null|null|null|null|null|null|null|null|null|null|null|null|null|null|null|null|null|null|null|null| null|null|null|                      37.58|\n",
            "|    Lincolnshire|http://opendataco...|2019-02-27T00:00:00|2011-02-01T00:00:00|2011-02-28T00:00:00|      TRUE|England E & NE|            Monthly|2011|   FEB|        82|  5.4|null|null|null|null|null|null|null|null|null|null|null|null|null|null|null|null|null|null|null|null|null| null|null|null|                      41.72|\n",
            "|    Lincolnshire|http://opendataco...|2019-02-27T00:00:00|2011-03-01T00:00:00|2011-03-31T00:00:00|      TRUE|England E & NE|            Monthly|2011|   MAR|      20.5|    6|null|null|null|null|null|null|null|null|null|null|null|null|null|null|null|null|null|null|null|null|null| null|null|null|                       42.8|\n",
            "+----------------+--------------------+-------------------+-------------------+-------------------+----------+--------------+-------------------+----+------+----------+-----+----+----+----+----+----+----+----+----+----+----+----+----+----+----+----+----+----+----+----+----+----+-----+----+----+---------------------------+\n",
            "only showing top 20 rows\n",
            "\n"
          ],
          "name": "stdout"
        }
      ]
    }
  ]
}